{
 "cells": [
  {
   "cell_type": "markdown",
   "metadata": {},
   "source": [
    "# Final Challenge "
   ]
  },
  {
   "cell_type": "markdown",
   "metadata": {},
   "source": [
    "The aim of the challenge is to expose the participants to a real world problem. After days of learning the Introduction of python, libraries(numpy & pandas) and Visualizations.\n",
    "The Final challenge is the Data science supermarket challenge(regression problem)\n",
    "* N.B : This model is for teaching purposes."
   ]
  },
  {
   "cell_type": "markdown",
   "metadata": {},
   "source": [
    "## Import Libraries "
   ]
  },
  {
   "cell_type": "code",
   "execution_count": 1,
   "metadata": {},
   "outputs": [],
   "source": [
    "import numpy as np\n",
    "import pandas as pd\n",
    "import matplotlib.pyplot as plt\n",
    "import seaborn as sns\n",
    "%matplotlib inline"
   ]
  },
  {
   "cell_type": "markdown",
   "metadata": {},
   "source": [
    "### Load Dataset"
   ]
  },
  {
   "cell_type": "code",
   "execution_count": 15,
   "metadata": {},
   "outputs": [],
   "source": [
    "supermarket = pd.read_csv('train.csv')"
   ]
  },
  {
   "cell_type": "markdown",
   "metadata": {},
   "source": [
    "Lets obtain information about the data "
   ]
  },
  {
   "cell_type": "code",
   "execution_count": 17,
   "metadata": {},
   "outputs": [
    {
     "data": {
      "text/plain": [
       "RangeIndex(start=0, stop=4990, step=1)"
      ]
     },
     "execution_count": 17,
     "metadata": {},
     "output_type": "execute_result"
    }
   ],
   "source": [
    "supermarket.index"
   ]
  },
  {
   "cell_type": "markdown",
   "metadata": {},
   "source": [
    "Obtain unique values"
   ]
  },
  {
   "cell_type": "code",
   "execution_count": null,
   "metadata": {},
   "outputs": [],
   "source": [
    "supermarket.nunique()"
   ]
  },
  {
   "cell_type": "markdown",
   "metadata": {},
   "source": [
    "Obtain Statistical Description"
   ]
  },
  {
   "cell_type": "code",
   "execution_count": null,
   "metadata": {},
   "outputs": [],
   "source": [
    "supermarket.describe()"
   ]
  },
  {
   "cell_type": "markdown",
   "metadata": {},
   "source": [
    "The identification column isnt necessary, so lets remove. We do this by using 'drop'. "
   ]
  },
  {
   "cell_type": "code",
   "execution_count": null,
   "metadata": {},
   "outputs": [],
   "source": [
    "#drop_column = ['Product_Identifier', 'Supermarket_Identifier', 'Product_Supermarket_Identifier']\n",
    "#supermarkett = supermarket.drop(drop_column, axis=1)"
   ]
  },
  {
   "cell_type": "code",
   "execution_count": null,
   "metadata": {},
   "outputs": [],
   "source": [
    "supermarket.head()"
   ]
  },
  {
   "cell_type": "code",
   "execution_count": null,
   "metadata": {},
   "outputs": [],
   "source": [
    "supermarket.info()"
   ]
  },
  {
   "cell_type": "code",
   "execution_count": null,
   "metadata": {},
   "outputs": [],
   "source": [
    "supermarket.head()"
   ]
  },
  {
   "cell_type": "markdown",
   "metadata": {},
   "source": [
    "From the above we need to group the data into categorical and numerical columns."
   ]
  },
  {
   "cell_type": "code",
   "execution_count": null,
   "metadata": {},
   "outputs": [],
   "source": [
    "cat_col = ['Supermarket_Identifier','Product_Fat_Content','Product_Type',\n",
    "           'Supermarket _Size', 'Supermarket_Location_Type',\n",
    "           'Supermarket_Type' ]\n",
    "num_col = ['Product_Weight', 'Product_Shelf_Visibility','Product_Price', \n",
    "           'Supermarket_Opening_Year', 'Product_Supermarket_Sales', ]"
   ]
  },
  {
   "cell_type": "code",
   "execution_count": null,
   "metadata": {},
   "outputs": [],
   "source": [
    "#OR\n",
    "#cat_col=[col for col in supermarket.columns if supermarket[col].nunique()<20]\n",
    "#num_col=list(set(supermarket.columns)-set(cat_col))"
   ]
  },
  {
   "cell_type": "markdown",
   "metadata": {},
   "source": [
    "Fill in the missing value"
   ]
  },
  {
   "cell_type": "code",
   "execution_count": null,
   "metadata": {},
   "outputs": [],
   "source": [
    "cols = [\"Supermarket _Size\"]\n",
    "supermarket[cols]=supermarket[cols].fillna(supermarket.mode().iloc[0])\n",
    "#supermarket['Supermarket _Size'].fillna('unknown',inplace=True)\n",
    "supermarket['Product_Weight'].fillna(supermarket['Product_Weight'].mean(),inplace=True);"
   ]
  },
  {
   "cell_type": "code",
   "execution_count": null,
   "metadata": {},
   "outputs": [],
   "source": [
    "supermarket.isnull().sum()"
   ]
  },
  {
   "cell_type": "markdown",
   "metadata": {},
   "source": [
    "## Visualizations "
   ]
  },
  {
   "cell_type": "code",
   "execution_count": null,
   "metadata": {},
   "outputs": [],
   "source": [
    "def plot_bar(data, cols, col_y = None):\n",
    "    for col in cols:\n",
    "        plt.figure(figsize=(22,5))\n",
    "        sns.barplot(y=col_y, x=col, data=data,color='red')\n",
    "        plt.ylabel(col_y) # Set text for the x axis\n",
    "        plt.xlabel(col)# Set text for y axis\n",
    "        plt.show()\n",
    "        \n",
    "plot_bar(data=supermarket,cols=cat_col,col_y='Product_Supermarket_Sales')"
   ]
  },
  {
   "cell_type": "markdown",
   "metadata": {},
   "source": [
    "### Distribution of Numerical Variables. "
   ]
  },
  {
   "cell_type": "code",
   "execution_count": null,
   "metadata": {},
   "outputs": [],
   "source": [
    "def plot_num(data, cols):\n",
    "    for col in cols:\n",
    "        plt.figure(figsize=(22,5))\n",
    "        sns.distplot(data[col])\n",
    "       \n",
    "        plt.show()\n",
    "        \n",
    "plot_num(data=supermarket,cols=num_col)"
   ]
  },
  {
   "cell_type": "markdown",
   "metadata": {},
   "source": [
    "## Feature Engineering "
   ]
  },
  {
   "cell_type": "code",
   "execution_count": null,
   "metadata": {},
   "outputs": [],
   "source": [
    "supermarket.shape"
   ]
  },
  {
   "cell_type": "code",
   "execution_count": null,
   "metadata": {},
   "outputs": [],
   "source": [
    "supermarket.info()"
   ]
  },
  {
   "cell_type": "code",
   "execution_count": null,
   "metadata": {},
   "outputs": [],
   "source": [
    "print(\"Original features:\\n\", list(supermarket.columns), \"\\n\")"
   ]
  },
  {
   "cell_type": "code",
   "execution_count": null,
   "metadata": {},
   "outputs": [],
   "source": [
    "supermarket.head()"
   ]
  },
  {
   "cell_type": "code",
   "execution_count": null,
   "metadata": {},
   "outputs": [],
   "source": [
    "supermarket_new =pd.get_dummies(supermarket, prefix=['Product_Fat_Content', 'Product_Type','Supermarket_Size', 'Supermarket_Location_Type', 'Supermarket_Type'], columns=['Product_Fat_Content', 'Product_Type','Supermarket _Size', 'Supermarket_Location_Type', 'Supermarket_Type'])"
   ]
  },
  {
   "cell_type": "code",
   "execution_count": null,
   "metadata": {},
   "outputs": [],
   "source": [
    "supermarket_new.head()"
   ]
  },
  {
   "cell_type": "code",
   "execution_count": null,
   "metadata": {},
   "outputs": [],
   "source": [
    "del supermarket_new['Product_Identifier']"
   ]
  },
  {
   "cell_type": "code",
   "execution_count": null,
   "metadata": {},
   "outputs": [],
   "source": [
    "supermarket_new = supermarket_new.drop(['Product_Supermarket_Identifier'], axis = 1)"
   ]
  },
  {
   "cell_type": "code",
   "execution_count": null,
   "metadata": {},
   "outputs": [],
   "source": [
    "supermarket_new = supermarket_new.drop(['Supermarket_Identifier'], axis = 1)"
   ]
  },
  {
   "cell_type": "code",
   "execution_count": null,
   "metadata": {},
   "outputs": [],
   "source": [
    "supermarket_new.head()"
   ]
  },
  {
   "cell_type": "code",
   "execution_count": null,
   "metadata": {},
   "outputs": [],
   "source": [
    "supermarket_new.shape"
   ]
  },
  {
   "cell_type": "markdown",
   "metadata": {},
   "source": [
    "## Training- Splitting Data "
   ]
  },
  {
   "cell_type": "code",
   "execution_count": null,
   "metadata": {},
   "outputs": [],
   "source": [
    "from sklearn.model_selection import train_test_split\n",
    "feature_col_names=['Product_Weight', 'Product_Shelf_Visibility', 'Product_Price', 'Supermarket_Opening_Year', 'Product_Fat_Content_Low Fat', 'Product_Fat_Content_Normal Fat', 'Product_Fat_Content_Ultra Low fat', 'Product_Type_Baking Goods', 'Product_Type_Breads', 'Product_Type_Breakfast', 'Product_Type_Canned', 'Product_Type_Dairy', 'Product_Type_Frozen Foods', 'Product_Type_Fruits and Vegetables', 'Product_Type_Hard Drinks', 'Product_Type_Health and Hygiene', 'Product_Type_Household', 'Product_Type_Meat', 'Product_Type_Others', 'Product_Type_Seafood', 'Product_Type_Snack Foods', 'Product_Type_Soft Drinks', 'Product_Type_Starchy Foods', 'Supermarket_Size_High', 'Supermarket_Size_Medium', 'Supermarket_Size_Small', 'Supermarket_Location_Type_Cluster 1', 'Supermarket_Location_Type_Cluster 2', 'Supermarket_Location_Type_Cluster 3', 'Supermarket_Type_Grocery Store', 'Supermarket_Type_Supermarket Type1', 'Supermarket_Type_Supermarket Type2', 'Supermarket_Type_Supermarket Type3']\n",
    "predicted_class_names=['Product_Supermarket_Sales']\n",
    "X=supermarket_new[feature_col_names].values\n",
    "y=supermarket_new[predicted_class_names].values \n",
    "split_test_size=0.30\n",
    "X_train, X_test, y_train, y_test= train_test_split(X,y, test_size=split_test_size, random_state=42)\n",
    "   "
   ]
  },
  {
   "cell_type": "code",
   "execution_count": null,
   "metadata": {},
   "outputs": [],
   "source": [
    "print(\"{0:0.2f}% in training set\".format((len(X_train)/len(supermarket_new.index)) * 100))\n",
    "print(\"{0:0.2f}% in test set\".format((len(X_test)/len(supermarket_new.index)) * 100))"
   ]
  },
  {
   "cell_type": "markdown",
   "metadata": {},
   "source": [
    "## Train Data "
   ]
  },
  {
   "cell_type": "markdown",
   "metadata": {},
   "source": [
    "### Gradient Boosting "
   ]
  },
  {
   "cell_type": "code",
   "execution_count": null,
   "metadata": {},
   "outputs": [],
   "source": [
    "from sklearn.ensemble import GradientBoostingRegressor\n",
    "gbr=GradientBoostingRegressor(learning_rate=0.089, max_depth=3.6, loss='lad',min_samples_split=500,min_samples_leaf=50, n_estimators=100)\n",
    "gbr.fit(X_train, y_train.ravel())"
   ]
  },
  {
   "cell_type": "code",
   "execution_count": null,
   "metadata": {},
   "outputs": [],
   "source": [
    "gbrpred=gbr.predict(X_train)\n",
    "gbrpred_test=gbr.predict(X_test)"
   ]
  },
  {
   "cell_type": "code",
   "execution_count": null,
   "metadata": {},
   "outputs": [],
   "source": [
    "from sklearn.metrics import mean_squared_error\n",
    "from sklearn.metrics import r2_score\n",
    "from math import sqrt"
   ]
  },
  {
   "cell_type": "code",
   "execution_count": null,
   "metadata": {},
   "outputs": [],
   "source": [
    "print(\"Accuracy on training set: {:.7f}\".format(gbr.score(X_train, y_train)))\n",
    "print(\"Accuracy on test set: {:.7f}\".format(gbr.score(X_test, y_test)))"
   ]
  },
  {
   "cell_type": "code",
   "execution_count": null,
   "metadata": {},
   "outputs": [],
   "source": [
    "MSE= mean_squared_error(y_train, gbrpred)\n",
    "MSE_test= mean_squared_error(y_test, gbrpred_test)\n",
    "print(\"MSE:\", MSE)\n",
    "print(\"MSE Test:\", MSE_test)\n",
    "RMSE=sqrt(MSE)\n",
    "RMSE_test=sqrt(MSE_test)\n",
    "print(\"RMSE:\", RMSE)\n",
    "print(\"RMSE Test:\", RMSE_test)"
   ]
  },
  {
   "cell_type": "markdown",
   "metadata": {},
   "source": [
    "## Linear Regression"
   ]
  },
  {
   "cell_type": "code",
   "execution_count": null,
   "metadata": {},
   "outputs": [],
   "source": [
    "from sklearn.tree import DecisionTreeRegressor\n",
    "from sklearn.linear_model import LinearRegression\n",
    "from sklearn.ensemble import RandomForestRegressor"
   ]
  },
  {
   "cell_type": "code",
   "execution_count": null,
   "metadata": {},
   "outputs": [],
   "source": [
    "lr=LinearRegression()\n",
    "lr.fit(X_train, y_train.ravel())"
   ]
  },
  {
   "cell_type": "code",
   "execution_count": null,
   "metadata": {},
   "outputs": [],
   "source": [
    "print(\"Accuracy on training set: {:.7f}\".format(lr.score(X_train, y_train)))\n",
    "print(\"Accuracy on test set: {:.7f}\".format(lr.score(X_test, y_test)))"
   ]
  },
  {
   "cell_type": "code",
   "execution_count": null,
   "metadata": {},
   "outputs": [],
   "source": [
    "linearRegression=lr.predict(X)\n",
    "sns.regplot(x=y, y=linearRegression, color='y')\n",
    "plt.title('Linear Regression Predicted Values Vs Actual Values')\n",
    "plt.xlabel('Actual')\n",
    "plt.ylabel('Linear Regression')"
   ]
  },
  {
   "cell_type": "code",
   "execution_count": null,
   "metadata": {},
   "outputs": [],
   "source": [
    "ynew= lr.predict(X_test)\n",
    "np.savetxt(\"AII.csv\",ynew,delimiter=\",\")"
   ]
  },
  {
   "cell_type": "code",
   "execution_count": null,
   "metadata": {},
   "outputs": [],
   "source": []
  }
 ],
 "metadata": {
  "kernelspec": {
   "display_name": "Python 3",
   "language": "python",
   "name": "python3"
  },
  "language_info": {
   "codemirror_mode": {
    "name": "ipython",
    "version": 3
   },
   "file_extension": ".py",
   "mimetype": "text/x-python",
   "name": "python",
   "nbconvert_exporter": "python",
   "pygments_lexer": "ipython3",
   "version": "3.6.4"
  }
 },
 "nbformat": 4,
 "nbformat_minor": 2
}
