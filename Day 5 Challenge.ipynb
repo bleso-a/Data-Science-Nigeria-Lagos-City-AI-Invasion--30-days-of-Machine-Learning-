{
 "cells": [
  {
   "cell_type": "markdown",
   "metadata": {},
   "source": [
    "# Final Challenge "
   ]
  },
  {
   "cell_type": "markdown",
   "metadata": {},
   "source": [
    "The aim of the challenge is to expose the participants to a real world problem. After days of learning the Introduction of python, libraries(numpy & pandas) and Visualizations.\n",
    "The Final challenge is the Data science supermarket challenge(regression problem)\n",
    "* N.B : This model is for teaching purposes."
   ]
  },
  {
   "cell_type": "markdown",
   "metadata": {},
   "source": [
    "## Import Libraries "
   ]
  },
  {
   "cell_type": "code",
   "execution_count": 1,
   "metadata": {},
   "outputs": [],
   "source": [
    "import numpy as np\n",
    "import pandas as pd\n",
    "import matplotlib.pyplot as plt\n",
    "import seaborn as sns\n",
    "%matplotlib inline"
   ]
  },
  {
   "cell_type": "markdown",
   "metadata": {},
   "source": [
    "### Load Dataset"
   ]
  },
  {
   "cell_type": "code",
   "execution_count": 2,
   "metadata": {},
   "outputs": [],
   "source": [
    "supermarket = pd.read_csv('train.csv')"
   ]
  },
  {
   "cell_type": "code",
   "execution_count": 3,
   "metadata": {},
   "outputs": [
    {
     "data": {
      "text/html": [
       "<div>\n",
       "<style scoped>\n",
       "    .dataframe tbody tr th:only-of-type {\n",
       "        vertical-align: middle;\n",
       "    }\n",
       "\n",
       "    .dataframe tbody tr th {\n",
       "        vertical-align: top;\n",
       "    }\n",
       "\n",
       "    .dataframe thead th {\n",
       "        text-align: right;\n",
       "    }\n",
       "</style>\n",
       "<table border=\"1\" class=\"dataframe\">\n",
       "  <thead>\n",
       "    <tr style=\"text-align: right;\">\n",
       "      <th></th>\n",
       "      <th>Product_Identifier</th>\n",
       "      <th>Supermarket_Identifier</th>\n",
       "      <th>Product_Supermarket_Identifier</th>\n",
       "      <th>Product_Weight</th>\n",
       "      <th>Product_Fat_Content</th>\n",
       "      <th>Product_Shelf_Visibility</th>\n",
       "      <th>Product_Type</th>\n",
       "      <th>Product_Price</th>\n",
       "      <th>Supermarket_Opening_Year</th>\n",
       "      <th>Supermarket _Size</th>\n",
       "      <th>Supermarket_Location_Type</th>\n",
       "      <th>Supermarket_Type</th>\n",
       "      <th>Product_Supermarket_Sales</th>\n",
       "    </tr>\n",
       "  </thead>\n",
       "  <tbody>\n",
       "    <tr>\n",
       "      <th>0</th>\n",
       "      <td>DRA12</td>\n",
       "      <td>CHUKWUDI010</td>\n",
       "      <td>DRA12_CHUKWUDI010</td>\n",
       "      <td>11.6</td>\n",
       "      <td>Low Fat</td>\n",
       "      <td>0.068535</td>\n",
       "      <td>Soft Drinks</td>\n",
       "      <td>357.54</td>\n",
       "      <td>2005</td>\n",
       "      <td>NaN</td>\n",
       "      <td>Cluster 3</td>\n",
       "      <td>Grocery Store</td>\n",
       "      <td>709.08</td>\n",
       "    </tr>\n",
       "    <tr>\n",
       "      <th>1</th>\n",
       "      <td>DRA12</td>\n",
       "      <td>CHUKWUDI013</td>\n",
       "      <td>DRA12_CHUKWUDI013</td>\n",
       "      <td>11.6</td>\n",
       "      <td>Low Fat</td>\n",
       "      <td>0.040912</td>\n",
       "      <td>Soft Drinks</td>\n",
       "      <td>355.79</td>\n",
       "      <td>1994</td>\n",
       "      <td>High</td>\n",
       "      <td>Cluster 3</td>\n",
       "      <td>Supermarket Type1</td>\n",
       "      <td>6381.69</td>\n",
       "    </tr>\n",
       "    <tr>\n",
       "      <th>2</th>\n",
       "      <td>DRA12</td>\n",
       "      <td>CHUKWUDI017</td>\n",
       "      <td>DRA12_CHUKWUDI017</td>\n",
       "      <td>11.6</td>\n",
       "      <td>Low Fat</td>\n",
       "      <td>0.041178</td>\n",
       "      <td>Soft Drinks</td>\n",
       "      <td>350.79</td>\n",
       "      <td>2014</td>\n",
       "      <td>NaN</td>\n",
       "      <td>Cluster 2</td>\n",
       "      <td>Supermarket Type1</td>\n",
       "      <td>6381.69</td>\n",
       "    </tr>\n",
       "    <tr>\n",
       "      <th>3</th>\n",
       "      <td>DRA12</td>\n",
       "      <td>CHUKWUDI018</td>\n",
       "      <td>DRA12_CHUKWUDI018</td>\n",
       "      <td>11.6</td>\n",
       "      <td>Low Fat</td>\n",
       "      <td>0.041113</td>\n",
       "      <td>Soft Drinks</td>\n",
       "      <td>355.04</td>\n",
       "      <td>2016</td>\n",
       "      <td>Medium</td>\n",
       "      <td>Cluster 3</td>\n",
       "      <td>Supermarket Type2</td>\n",
       "      <td>2127.23</td>\n",
       "    </tr>\n",
       "    <tr>\n",
       "      <th>4</th>\n",
       "      <td>DRA12</td>\n",
       "      <td>CHUKWUDI035</td>\n",
       "      <td>DRA12_CHUKWUDI035</td>\n",
       "      <td>11.6</td>\n",
       "      <td>Ultra Low fat</td>\n",
       "      <td>0.000000</td>\n",
       "      <td>Soft Drinks</td>\n",
       "      <td>354.79</td>\n",
       "      <td>2011</td>\n",
       "      <td>Small</td>\n",
       "      <td>Cluster 2</td>\n",
       "      <td>Supermarket Type1</td>\n",
       "      <td>2481.77</td>\n",
       "    </tr>\n",
       "  </tbody>\n",
       "</table>\n",
       "</div>"
      ],
      "text/plain": [
       "  Product_Identifier Supermarket_Identifier Product_Supermarket_Identifier  \\\n",
       "0              DRA12            CHUKWUDI010              DRA12_CHUKWUDI010   \n",
       "1              DRA12            CHUKWUDI013              DRA12_CHUKWUDI013   \n",
       "2              DRA12            CHUKWUDI017              DRA12_CHUKWUDI017   \n",
       "3              DRA12            CHUKWUDI018              DRA12_CHUKWUDI018   \n",
       "4              DRA12            CHUKWUDI035              DRA12_CHUKWUDI035   \n",
       "\n",
       "   Product_Weight Product_Fat_Content  Product_Shelf_Visibility Product_Type  \\\n",
       "0            11.6             Low Fat                  0.068535  Soft Drinks   \n",
       "1            11.6             Low Fat                  0.040912  Soft Drinks   \n",
       "2            11.6             Low Fat                  0.041178  Soft Drinks   \n",
       "3            11.6             Low Fat                  0.041113  Soft Drinks   \n",
       "4            11.6       Ultra Low fat                  0.000000  Soft Drinks   \n",
       "\n",
       "   Product_Price  Supermarket_Opening_Year Supermarket _Size  \\\n",
       "0         357.54                      2005               NaN   \n",
       "1         355.79                      1994              High   \n",
       "2         350.79                      2014               NaN   \n",
       "3         355.04                      2016            Medium   \n",
       "4         354.79                      2011             Small   \n",
       "\n",
       "  Supermarket_Location_Type   Supermarket_Type  Product_Supermarket_Sales  \n",
       "0                 Cluster 3      Grocery Store                     709.08  \n",
       "1                 Cluster 3  Supermarket Type1                    6381.69  \n",
       "2                 Cluster 2  Supermarket Type1                    6381.69  \n",
       "3                 Cluster 3  Supermarket Type2                    2127.23  \n",
       "4                 Cluster 2  Supermarket Type1                    2481.77  "
      ]
     },
     "execution_count": 3,
     "metadata": {},
     "output_type": "execute_result"
    }
   ],
   "source": [
    "supermarket.head()"
   ]
  },
  {
   "cell_type": "markdown",
   "metadata": {},
   "source": [
    "Lets obtain information about the data "
   ]
  },
  {
   "cell_type": "code",
   "execution_count": 4,
   "metadata": {},
   "outputs": [
    {
     "name": "stdout",
     "output_type": "stream",
     "text": [
      "<class 'pandas.core.frame.DataFrame'>\n",
      "RangeIndex: 4990 entries, 0 to 4989\n",
      "Data columns (total 13 columns):\n",
      "Product_Identifier                4990 non-null object\n",
      "Supermarket_Identifier            4990 non-null object\n",
      "Product_Supermarket_Identifier    4990 non-null object\n",
      "Product_Weight                    4188 non-null float64\n",
      "Product_Fat_Content               4990 non-null object\n",
      "Product_Shelf_Visibility          4990 non-null float64\n",
      "Product_Type                      4990 non-null object\n",
      "Product_Price                     4990 non-null float64\n",
      "Supermarket_Opening_Year          4990 non-null int64\n",
      "Supermarket _Size                 3540 non-null object\n",
      "Supermarket_Location_Type         4990 non-null object\n",
      "Supermarket_Type                  4990 non-null object\n",
      "Product_Supermarket_Sales         4990 non-null float64\n",
      "dtypes: float64(4), int64(1), object(8)\n",
      "memory usage: 506.9+ KB\n"
     ]
    }
   ],
   "source": [
    "supermarket.info()"
   ]
  },
  {
   "cell_type": "markdown",
   "metadata": {},
   "source": [
    "Obtain unique values"
   ]
  },
  {
   "cell_type": "code",
   "execution_count": 5,
   "metadata": {},
   "outputs": [
    {
     "data": {
      "text/plain": [
       "Product_Identifier                1451\n",
       "Supermarket_Identifier              10\n",
       "Product_Supermarket_Identifier    4990\n",
       "Product_Weight                     399\n",
       "Product_Fat_Content                  3\n",
       "Product_Shelf_Visibility          4638\n",
       "Product_Type                        16\n",
       "Product_Price                     3522\n",
       "Supermarket_Opening_Year             9\n",
       "Supermarket _Size                    3\n",
       "Supermarket_Location_Type            3\n",
       "Supermarket_Type                     4\n",
       "Product_Supermarket_Sales         2686\n",
       "dtype: int64"
      ]
     },
     "execution_count": 5,
     "metadata": {},
     "output_type": "execute_result"
    }
   ],
   "source": [
    "supermarket.nunique()"
   ]
  },
  {
   "cell_type": "markdown",
   "metadata": {},
   "source": [
    "Obtain Statistical Description"
   ]
  },
  {
   "cell_type": "code",
   "execution_count": 6,
   "metadata": {},
   "outputs": [
    {
     "data": {
      "text/html": [
       "<div>\n",
       "<style scoped>\n",
       "    .dataframe tbody tr th:only-of-type {\n",
       "        vertical-align: middle;\n",
       "    }\n",
       "\n",
       "    .dataframe tbody tr th {\n",
       "        vertical-align: top;\n",
       "    }\n",
       "\n",
       "    .dataframe thead th {\n",
       "        text-align: right;\n",
       "    }\n",
       "</style>\n",
       "<table border=\"1\" class=\"dataframe\">\n",
       "  <thead>\n",
       "    <tr style=\"text-align: right;\">\n",
       "      <th></th>\n",
       "      <th>Product_Weight</th>\n",
       "      <th>Product_Shelf_Visibility</th>\n",
       "      <th>Product_Price</th>\n",
       "      <th>Supermarket_Opening_Year</th>\n",
       "      <th>Product_Supermarket_Sales</th>\n",
       "    </tr>\n",
       "  </thead>\n",
       "  <tbody>\n",
       "    <tr>\n",
       "      <th>count</th>\n",
       "      <td>4188.000000</td>\n",
       "      <td>4990.000000</td>\n",
       "      <td>4990.000000</td>\n",
       "      <td>4990.000000</td>\n",
       "      <td>4990.000000</td>\n",
       "    </tr>\n",
       "    <tr>\n",
       "      <th>mean</th>\n",
       "      <td>12.908838</td>\n",
       "      <td>0.066916</td>\n",
       "      <td>391.803796</td>\n",
       "      <td>2004.783567</td>\n",
       "      <td>6103.520164</td>\n",
       "    </tr>\n",
       "    <tr>\n",
       "      <th>std</th>\n",
       "      <td>4.703256</td>\n",
       "      <td>0.053058</td>\n",
       "      <td>119.378259</td>\n",
       "      <td>8.283151</td>\n",
       "      <td>4447.333835</td>\n",
       "    </tr>\n",
       "    <tr>\n",
       "      <th>min</th>\n",
       "      <td>4.555000</td>\n",
       "      <td>0.000000</td>\n",
       "      <td>78.730000</td>\n",
       "      <td>1992.000000</td>\n",
       "      <td>83.230000</td>\n",
       "    </tr>\n",
       "    <tr>\n",
       "      <th>25%</th>\n",
       "      <td>8.767500</td>\n",
       "      <td>0.027273</td>\n",
       "      <td>307.890000</td>\n",
       "      <td>1994.000000</td>\n",
       "      <td>2757.660000</td>\n",
       "    </tr>\n",
       "    <tr>\n",
       "      <th>50%</th>\n",
       "      <td>12.600000</td>\n",
       "      <td>0.053564</td>\n",
       "      <td>393.860000</td>\n",
       "      <td>2006.000000</td>\n",
       "      <td>5374.675000</td>\n",
       "    </tr>\n",
       "    <tr>\n",
       "      <th>75%</th>\n",
       "      <td>17.100000</td>\n",
       "      <td>0.095358</td>\n",
       "      <td>465.067500</td>\n",
       "      <td>2011.000000</td>\n",
       "      <td>8522.240000</td>\n",
       "    </tr>\n",
       "    <tr>\n",
       "      <th>max</th>\n",
       "      <td>21.350000</td>\n",
       "      <td>0.328391</td>\n",
       "      <td>667.220000</td>\n",
       "      <td>2016.000000</td>\n",
       "      <td>32717.410000</td>\n",
       "    </tr>\n",
       "  </tbody>\n",
       "</table>\n",
       "</div>"
      ],
      "text/plain": [
       "       Product_Weight  Product_Shelf_Visibility  Product_Price  \\\n",
       "count     4188.000000               4990.000000    4990.000000   \n",
       "mean        12.908838                  0.066916     391.803796   \n",
       "std          4.703256                  0.053058     119.378259   \n",
       "min          4.555000                  0.000000      78.730000   \n",
       "25%          8.767500                  0.027273     307.890000   \n",
       "50%         12.600000                  0.053564     393.860000   \n",
       "75%         17.100000                  0.095358     465.067500   \n",
       "max         21.350000                  0.328391     667.220000   \n",
       "\n",
       "       Supermarket_Opening_Year  Product_Supermarket_Sales  \n",
       "count               4990.000000                4990.000000  \n",
       "mean                2004.783567                6103.520164  \n",
       "std                    8.283151                4447.333835  \n",
       "min                 1992.000000                  83.230000  \n",
       "25%                 1994.000000                2757.660000  \n",
       "50%                 2006.000000                5374.675000  \n",
       "75%                 2011.000000                8522.240000  \n",
       "max                 2016.000000               32717.410000  "
      ]
     },
     "execution_count": 6,
     "metadata": {},
     "output_type": "execute_result"
    }
   ],
   "source": [
    "supermarket.describe()"
   ]
  },
  {
   "cell_type": "markdown",
   "metadata": {},
   "source": [
    "The identification column isnt necessary, so lets remove. We do this by using 'drop'. "
   ]
  },
  {
   "cell_type": "code",
   "execution_count": 7,
   "metadata": {},
   "outputs": [],
   "source": [
    "#drop_column = ['Product_Identifier', 'Supermarket_Identifier', 'Product_Supermarket_Identifier']\n",
    "#supermarkett = supermarket.drop(drop_column, axis=1)"
   ]
  },
  {
   "cell_type": "code",
   "execution_count": 8,
   "metadata": {},
   "outputs": [
    {
     "data": {
      "text/html": [
       "<div>\n",
       "<style scoped>\n",
       "    .dataframe tbody tr th:only-of-type {\n",
       "        vertical-align: middle;\n",
       "    }\n",
       "\n",
       "    .dataframe tbody tr th {\n",
       "        vertical-align: top;\n",
       "    }\n",
       "\n",
       "    .dataframe thead th {\n",
       "        text-align: right;\n",
       "    }\n",
       "</style>\n",
       "<table border=\"1\" class=\"dataframe\">\n",
       "  <thead>\n",
       "    <tr style=\"text-align: right;\">\n",
       "      <th></th>\n",
       "      <th>Product_Identifier</th>\n",
       "      <th>Supermarket_Identifier</th>\n",
       "      <th>Product_Supermarket_Identifier</th>\n",
       "      <th>Product_Weight</th>\n",
       "      <th>Product_Fat_Content</th>\n",
       "      <th>Product_Shelf_Visibility</th>\n",
       "      <th>Product_Type</th>\n",
       "      <th>Product_Price</th>\n",
       "      <th>Supermarket_Opening_Year</th>\n",
       "      <th>Supermarket _Size</th>\n",
       "      <th>Supermarket_Location_Type</th>\n",
       "      <th>Supermarket_Type</th>\n",
       "      <th>Product_Supermarket_Sales</th>\n",
       "    </tr>\n",
       "  </thead>\n",
       "  <tbody>\n",
       "    <tr>\n",
       "      <th>0</th>\n",
       "      <td>DRA12</td>\n",
       "      <td>CHUKWUDI010</td>\n",
       "      <td>DRA12_CHUKWUDI010</td>\n",
       "      <td>11.6</td>\n",
       "      <td>Low Fat</td>\n",
       "      <td>0.068535</td>\n",
       "      <td>Soft Drinks</td>\n",
       "      <td>357.54</td>\n",
       "      <td>2005</td>\n",
       "      <td>NaN</td>\n",
       "      <td>Cluster 3</td>\n",
       "      <td>Grocery Store</td>\n",
       "      <td>709.08</td>\n",
       "    </tr>\n",
       "    <tr>\n",
       "      <th>1</th>\n",
       "      <td>DRA12</td>\n",
       "      <td>CHUKWUDI013</td>\n",
       "      <td>DRA12_CHUKWUDI013</td>\n",
       "      <td>11.6</td>\n",
       "      <td>Low Fat</td>\n",
       "      <td>0.040912</td>\n",
       "      <td>Soft Drinks</td>\n",
       "      <td>355.79</td>\n",
       "      <td>1994</td>\n",
       "      <td>High</td>\n",
       "      <td>Cluster 3</td>\n",
       "      <td>Supermarket Type1</td>\n",
       "      <td>6381.69</td>\n",
       "    </tr>\n",
       "    <tr>\n",
       "      <th>2</th>\n",
       "      <td>DRA12</td>\n",
       "      <td>CHUKWUDI017</td>\n",
       "      <td>DRA12_CHUKWUDI017</td>\n",
       "      <td>11.6</td>\n",
       "      <td>Low Fat</td>\n",
       "      <td>0.041178</td>\n",
       "      <td>Soft Drinks</td>\n",
       "      <td>350.79</td>\n",
       "      <td>2014</td>\n",
       "      <td>NaN</td>\n",
       "      <td>Cluster 2</td>\n",
       "      <td>Supermarket Type1</td>\n",
       "      <td>6381.69</td>\n",
       "    </tr>\n",
       "    <tr>\n",
       "      <th>3</th>\n",
       "      <td>DRA12</td>\n",
       "      <td>CHUKWUDI018</td>\n",
       "      <td>DRA12_CHUKWUDI018</td>\n",
       "      <td>11.6</td>\n",
       "      <td>Low Fat</td>\n",
       "      <td>0.041113</td>\n",
       "      <td>Soft Drinks</td>\n",
       "      <td>355.04</td>\n",
       "      <td>2016</td>\n",
       "      <td>Medium</td>\n",
       "      <td>Cluster 3</td>\n",
       "      <td>Supermarket Type2</td>\n",
       "      <td>2127.23</td>\n",
       "    </tr>\n",
       "    <tr>\n",
       "      <th>4</th>\n",
       "      <td>DRA12</td>\n",
       "      <td>CHUKWUDI035</td>\n",
       "      <td>DRA12_CHUKWUDI035</td>\n",
       "      <td>11.6</td>\n",
       "      <td>Ultra Low fat</td>\n",
       "      <td>0.000000</td>\n",
       "      <td>Soft Drinks</td>\n",
       "      <td>354.79</td>\n",
       "      <td>2011</td>\n",
       "      <td>Small</td>\n",
       "      <td>Cluster 2</td>\n",
       "      <td>Supermarket Type1</td>\n",
       "      <td>2481.77</td>\n",
       "    </tr>\n",
       "  </tbody>\n",
       "</table>\n",
       "</div>"
      ],
      "text/plain": [
       "  Product_Identifier Supermarket_Identifier Product_Supermarket_Identifier  \\\n",
       "0              DRA12            CHUKWUDI010              DRA12_CHUKWUDI010   \n",
       "1              DRA12            CHUKWUDI013              DRA12_CHUKWUDI013   \n",
       "2              DRA12            CHUKWUDI017              DRA12_CHUKWUDI017   \n",
       "3              DRA12            CHUKWUDI018              DRA12_CHUKWUDI018   \n",
       "4              DRA12            CHUKWUDI035              DRA12_CHUKWUDI035   \n",
       "\n",
       "   Product_Weight Product_Fat_Content  Product_Shelf_Visibility Product_Type  \\\n",
       "0            11.6             Low Fat                  0.068535  Soft Drinks   \n",
       "1            11.6             Low Fat                  0.040912  Soft Drinks   \n",
       "2            11.6             Low Fat                  0.041178  Soft Drinks   \n",
       "3            11.6             Low Fat                  0.041113  Soft Drinks   \n",
       "4            11.6       Ultra Low fat                  0.000000  Soft Drinks   \n",
       "\n",
       "   Product_Price  Supermarket_Opening_Year Supermarket _Size  \\\n",
       "0         357.54                      2005               NaN   \n",
       "1         355.79                      1994              High   \n",
       "2         350.79                      2014               NaN   \n",
       "3         355.04                      2016            Medium   \n",
       "4         354.79                      2011             Small   \n",
       "\n",
       "  Supermarket_Location_Type   Supermarket_Type  Product_Supermarket_Sales  \n",
       "0                 Cluster 3      Grocery Store                     709.08  \n",
       "1                 Cluster 3  Supermarket Type1                    6381.69  \n",
       "2                 Cluster 2  Supermarket Type1                    6381.69  \n",
       "3                 Cluster 3  Supermarket Type2                    2127.23  \n",
       "4                 Cluster 2  Supermarket Type1                    2481.77  "
      ]
     },
     "execution_count": 8,
     "metadata": {},
     "output_type": "execute_result"
    }
   ],
   "source": [
    "supermarket.head()"
   ]
  },
  {
   "cell_type": "code",
   "execution_count": 9,
   "metadata": {},
   "outputs": [
    {
     "name": "stdout",
     "output_type": "stream",
     "text": [
      "<class 'pandas.core.frame.DataFrame'>\n",
      "RangeIndex: 4990 entries, 0 to 4989\n",
      "Data columns (total 13 columns):\n",
      "Product_Identifier                4990 non-null object\n",
      "Supermarket_Identifier            4990 non-null object\n",
      "Product_Supermarket_Identifier    4990 non-null object\n",
      "Product_Weight                    4188 non-null float64\n",
      "Product_Fat_Content               4990 non-null object\n",
      "Product_Shelf_Visibility          4990 non-null float64\n",
      "Product_Type                      4990 non-null object\n",
      "Product_Price                     4990 non-null float64\n",
      "Supermarket_Opening_Year          4990 non-null int64\n",
      "Supermarket _Size                 3540 non-null object\n",
      "Supermarket_Location_Type         4990 non-null object\n",
      "Supermarket_Type                  4990 non-null object\n",
      "Product_Supermarket_Sales         4990 non-null float64\n",
      "dtypes: float64(4), int64(1), object(8)\n",
      "memory usage: 506.9+ KB\n"
     ]
    }
   ],
   "source": [
    "supermarket.info()"
   ]
  },
  {
   "cell_type": "code",
   "execution_count": 10,
   "metadata": {},
   "outputs": [
    {
     "data": {
      "text/html": [
       "<div>\n",
       "<style scoped>\n",
       "    .dataframe tbody tr th:only-of-type {\n",
       "        vertical-align: middle;\n",
       "    }\n",
       "\n",
       "    .dataframe tbody tr th {\n",
       "        vertical-align: top;\n",
       "    }\n",
       "\n",
       "    .dataframe thead th {\n",
       "        text-align: right;\n",
       "    }\n",
       "</style>\n",
       "<table border=\"1\" class=\"dataframe\">\n",
       "  <thead>\n",
       "    <tr style=\"text-align: right;\">\n",
       "      <th></th>\n",
       "      <th>Product_Identifier</th>\n",
       "      <th>Supermarket_Identifier</th>\n",
       "      <th>Product_Supermarket_Identifier</th>\n",
       "      <th>Product_Weight</th>\n",
       "      <th>Product_Fat_Content</th>\n",
       "      <th>Product_Shelf_Visibility</th>\n",
       "      <th>Product_Type</th>\n",
       "      <th>Product_Price</th>\n",
       "      <th>Supermarket_Opening_Year</th>\n",
       "      <th>Supermarket _Size</th>\n",
       "      <th>Supermarket_Location_Type</th>\n",
       "      <th>Supermarket_Type</th>\n",
       "      <th>Product_Supermarket_Sales</th>\n",
       "    </tr>\n",
       "  </thead>\n",
       "  <tbody>\n",
       "    <tr>\n",
       "      <th>0</th>\n",
       "      <td>DRA12</td>\n",
       "      <td>CHUKWUDI010</td>\n",
       "      <td>DRA12_CHUKWUDI010</td>\n",
       "      <td>11.6</td>\n",
       "      <td>Low Fat</td>\n",
       "      <td>0.068535</td>\n",
       "      <td>Soft Drinks</td>\n",
       "      <td>357.54</td>\n",
       "      <td>2005</td>\n",
       "      <td>NaN</td>\n",
       "      <td>Cluster 3</td>\n",
       "      <td>Grocery Store</td>\n",
       "      <td>709.08</td>\n",
       "    </tr>\n",
       "    <tr>\n",
       "      <th>1</th>\n",
       "      <td>DRA12</td>\n",
       "      <td>CHUKWUDI013</td>\n",
       "      <td>DRA12_CHUKWUDI013</td>\n",
       "      <td>11.6</td>\n",
       "      <td>Low Fat</td>\n",
       "      <td>0.040912</td>\n",
       "      <td>Soft Drinks</td>\n",
       "      <td>355.79</td>\n",
       "      <td>1994</td>\n",
       "      <td>High</td>\n",
       "      <td>Cluster 3</td>\n",
       "      <td>Supermarket Type1</td>\n",
       "      <td>6381.69</td>\n",
       "    </tr>\n",
       "    <tr>\n",
       "      <th>2</th>\n",
       "      <td>DRA12</td>\n",
       "      <td>CHUKWUDI017</td>\n",
       "      <td>DRA12_CHUKWUDI017</td>\n",
       "      <td>11.6</td>\n",
       "      <td>Low Fat</td>\n",
       "      <td>0.041178</td>\n",
       "      <td>Soft Drinks</td>\n",
       "      <td>350.79</td>\n",
       "      <td>2014</td>\n",
       "      <td>NaN</td>\n",
       "      <td>Cluster 2</td>\n",
       "      <td>Supermarket Type1</td>\n",
       "      <td>6381.69</td>\n",
       "    </tr>\n",
       "    <tr>\n",
       "      <th>3</th>\n",
       "      <td>DRA12</td>\n",
       "      <td>CHUKWUDI018</td>\n",
       "      <td>DRA12_CHUKWUDI018</td>\n",
       "      <td>11.6</td>\n",
       "      <td>Low Fat</td>\n",
       "      <td>0.041113</td>\n",
       "      <td>Soft Drinks</td>\n",
       "      <td>355.04</td>\n",
       "      <td>2016</td>\n",
       "      <td>Medium</td>\n",
       "      <td>Cluster 3</td>\n",
       "      <td>Supermarket Type2</td>\n",
       "      <td>2127.23</td>\n",
       "    </tr>\n",
       "    <tr>\n",
       "      <th>4</th>\n",
       "      <td>DRA12</td>\n",
       "      <td>CHUKWUDI035</td>\n",
       "      <td>DRA12_CHUKWUDI035</td>\n",
       "      <td>11.6</td>\n",
       "      <td>Ultra Low fat</td>\n",
       "      <td>0.000000</td>\n",
       "      <td>Soft Drinks</td>\n",
       "      <td>354.79</td>\n",
       "      <td>2011</td>\n",
       "      <td>Small</td>\n",
       "      <td>Cluster 2</td>\n",
       "      <td>Supermarket Type1</td>\n",
       "      <td>2481.77</td>\n",
       "    </tr>\n",
       "  </tbody>\n",
       "</table>\n",
       "</div>"
      ],
      "text/plain": [
       "  Product_Identifier Supermarket_Identifier Product_Supermarket_Identifier  \\\n",
       "0              DRA12            CHUKWUDI010              DRA12_CHUKWUDI010   \n",
       "1              DRA12            CHUKWUDI013              DRA12_CHUKWUDI013   \n",
       "2              DRA12            CHUKWUDI017              DRA12_CHUKWUDI017   \n",
       "3              DRA12            CHUKWUDI018              DRA12_CHUKWUDI018   \n",
       "4              DRA12            CHUKWUDI035              DRA12_CHUKWUDI035   \n",
       "\n",
       "   Product_Weight Product_Fat_Content  Product_Shelf_Visibility Product_Type  \\\n",
       "0            11.6             Low Fat                  0.068535  Soft Drinks   \n",
       "1            11.6             Low Fat                  0.040912  Soft Drinks   \n",
       "2            11.6             Low Fat                  0.041178  Soft Drinks   \n",
       "3            11.6             Low Fat                  0.041113  Soft Drinks   \n",
       "4            11.6       Ultra Low fat                  0.000000  Soft Drinks   \n",
       "\n",
       "   Product_Price  Supermarket_Opening_Year Supermarket _Size  \\\n",
       "0         357.54                      2005               NaN   \n",
       "1         355.79                      1994              High   \n",
       "2         350.79                      2014               NaN   \n",
       "3         355.04                      2016            Medium   \n",
       "4         354.79                      2011             Small   \n",
       "\n",
       "  Supermarket_Location_Type   Supermarket_Type  Product_Supermarket_Sales  \n",
       "0                 Cluster 3      Grocery Store                     709.08  \n",
       "1                 Cluster 3  Supermarket Type1                    6381.69  \n",
       "2                 Cluster 2  Supermarket Type1                    6381.69  \n",
       "3                 Cluster 3  Supermarket Type2                    2127.23  \n",
       "4                 Cluster 2  Supermarket Type1                    2481.77  "
      ]
     },
     "execution_count": 10,
     "metadata": {},
     "output_type": "execute_result"
    }
   ],
   "source": [
    "supermarket.head()"
   ]
  },
  {
   "cell_type": "markdown",
   "metadata": {},
   "source": [
    "From the above we need to group the data into categorical and numerical columns."
   ]
  },
  {
   "cell_type": "code",
   "execution_count": 11,
   "metadata": {},
   "outputs": [],
   "source": [
    "cat_col = ['Supermarket_Identifier','Product_Fat_Content','Product_Type',\n",
    "           'Supermarket _Size', 'Supermarket_Location_Type',\n",
    "           'Supermarket_Type' ]\n",
    "num_col = ['Product_Weight', 'Product_Shelf_Visibility','Product_Price', \n",
    "           'Supermarket_Opening_Year', 'Product_Supermarket_Sales', ]"
   ]
  },
  {
   "cell_type": "code",
   "execution_count": 12,
   "metadata": {},
   "outputs": [],
   "source": [
    "#OR\n",
    "#cat_col=[col for col in supermarket.columns if supermarket[col].nunique()<20]\n",
    "#num_col=list(set(supermarket.columns)-set(cat_col))"
   ]
  },
  {
   "cell_type": "markdown",
   "metadata": {},
   "source": [
    "Fill in the missing value"
   ]
  },
  {
   "cell_type": "code",
   "execution_count": 13,
   "metadata": {},
   "outputs": [],
   "source": [
    "cols = [\"Supermarket _Size\"]\n",
    "supermarket[cols]=supermarket[cols].fillna(supermarket.mode().iloc[0])\n",
    "#supermarket['Supermarket _Size'].fillna('unknown',inplace=True)\n",
    "supermarket['Product_Weight'].fillna(supermarket['Product_Weight'].mean(),inplace=True);"
   ]
  },
  {
   "cell_type": "code",
   "execution_count": 14,
   "metadata": {},
   "outputs": [
    {
     "data": {
      "text/plain": [
       "Product_Identifier                0\n",
       "Supermarket_Identifier            0\n",
       "Product_Supermarket_Identifier    0\n",
       "Product_Weight                    0\n",
       "Product_Fat_Content               0\n",
       "Product_Shelf_Visibility          0\n",
       "Product_Type                      0\n",
       "Product_Price                     0\n",
       "Supermarket_Opening_Year          0\n",
       "Supermarket _Size                 0\n",
       "Supermarket_Location_Type         0\n",
       "Supermarket_Type                  0\n",
       "Product_Supermarket_Sales         0\n",
       "dtype: int64"
      ]
     },
     "execution_count": 14,
     "metadata": {},
     "output_type": "execute_result"
    }
   ],
   "source": [
    "supermarket.isnull().sum()"
   ]
  },
  {
   "cell_type": "markdown",
   "metadata": {},
   "source": [
    "## Visualizations "
   ]
  },
  {
   "cell_type": "code",
   "execution_count": 15,
   "metadata": {},
   "outputs": [
    {
     "data": {
      "image/png": "[encoded data removed]",
      "text/plain": [
       "<matplotlib.figure.Figure at 0x234c73b92b0>"
      ]
     },
     "metadata": {},
     "output_type": "display_data"
    },
    {
     "data": {
      "image/png": "[encoded data removed]",
      "text/plain": [
       "<matplotlib.figure.Figure at 0x234c7318e80>"
      ]
     },
     "metadata": {},
     "output_type": "display_data"
    },
    {
     "data": {
      "image/png": "[encoded data removed]",
      "text/plain": [
       "<matplotlib.figure.Figure at 0x234c79a44e0>"
      ]
     },
     "metadata": {},
     "output_type": "display_data"
    },
    {
     "data": {
      "image/png": "[encoded data removed]",
      "text/plain": [
       "<matplotlib.figure.Figure at 0x234c7bda710>"
      ]
     },
     "metadata": {},
     "output_type": "display_data"
    },
    {
     "data": {
      "image/png": "[encoded data removed]",
      "text/plain": [
       "<matplotlib.figure.Figure at 0x234c8025ef0>"
      ]
     },
     "metadata": {},
     "output_type": "display_data"
    },
    {
     "data": {
      "image/png": "[encoded data removed]",
      "text/plain": [
       "<matplotlib.figure.Figure at 0x234c7c17c50>"
      ]
     },
     "metadata": {},
     "output_type": "display_data"
    }
   ],
   "source": [
    "def plot_bar(data, cols, col_y = None):\n",
    "    for col in cols:\n",
    "        plt.figure(figsize=(22,5))\n",
    "        sns.barplot(y=col_y, x=col, data=data,color='red')\n",
    "        plt.ylabel(col_y) # Set text for the x axis\n",
    "        plt.xlabel(col)# Set text for y axis\n",
    "        plt.show()\n",
    "        \n",
    "plot_bar(data=supermarket,cols=cat_col,col_y='Product_Supermarket_Sales')"
   ]
  },
  {
   "cell_type": "markdown",
   "metadata": {},
   "source": [
    "### Distribution of Numerical Variables. "
   ]
  },
  {
   "cell_type": "code",
   "execution_count": 16,
   "metadata": {},
   "outputs": [
    {
     "data": {
      "image/png": "[encoded data removed]",
      "text/plain": [
       "<matplotlib.figure.Figure at 0x234c73b90f0>"
      ]
     },
     "metadata": {},
     "output_type": "display_data"
    },
    {
     "data": {
      "image/png": "[encoded data removed]",
      "text/plain": [
       "<matplotlib.figure.Figure at 0x234c7df17f0>"
      ]
     },
     "metadata": {},
     "output_type": "display_data"
    },
    {
     "data": {
      "image/png": "[encoded data removed]",
      "text/plain": [
       "<matplotlib.figure.Figure at 0x234c7e51da0>"
      ]
     },
     "metadata": {},
     "output_type": "display_data"
    },
    {
     "data": {
      "image/png": "[encoded data removed]",
      "text/plain": [
       "<matplotlib.figure.Figure at 0x234c8217518>"
      ]
     },
     "metadata": {},
     "output_type": "display_data"
    },
    {
     "data": {
      "image/png": "[encoded data removed]",
      "text/plain": [
       "<matplotlib.figure.Figure at 0x234c79ad518>"
      ]
     },
     "metadata": {},
     "output_type": "display_data"
    }
   ],
   "source": [
    "def plot_num(data, cols):\n",
    "    for col in cols:\n",
    "        plt.figure(figsize=(22,5))\n",
    "        sns.distplot(data[col])\n",
    "       \n",
    "        plt.show()\n",
    "        \n",
    "plot_num(data=supermarket,cols=num_col)"
   ]
  },
  {
   "cell_type": "markdown",
   "metadata": {},
   "source": [
    "## Feature Engineering "
   ]
  },
  {
   "cell_type": "code",
   "execution_count": 17,
   "metadata": {},
   "outputs": [
    {
     "data": {
      "text/plain": [
       "(4990, 13)"
      ]
     },
     "execution_count": 17,
     "metadata": {},
     "output_type": "execute_result"
    }
   ],
   "source": [
    "supermarket.shape"
   ]
  },
  {
   "cell_type": "code",
   "execution_count": 18,
   "metadata": {},
   "outputs": [
    {
     "name": "stdout",
     "output_type": "stream",
     "text": [
      "<class 'pandas.core.frame.DataFrame'>\n",
      "RangeIndex: 4990 entries, 0 to 4989\n",
      "Data columns (total 13 columns):\n",
      "Product_Identifier                4990 non-null object\n",
      "Supermarket_Identifier            4990 non-null object\n",
      "Product_Supermarket_Identifier    4990 non-null object\n",
      "Product_Weight                    4990 non-null float64\n",
      "Product_Fat_Content               4990 non-null object\n",
      "Product_Shelf_Visibility          4990 non-null float64\n",
      "Product_Type                      4990 non-null object\n",
      "Product_Price                     4990 non-null float64\n",
      "Supermarket_Opening_Year          4990 non-null int64\n",
      "Supermarket _Size                 4990 non-null object\n",
      "Supermarket_Location_Type         4990 non-null object\n",
      "Supermarket_Type                  4990 non-null object\n",
      "Product_Supermarket_Sales         4990 non-null float64\n",
      "dtypes: float64(4), int64(1), object(8)\n",
      "memory usage: 506.9+ KB\n"
     ]
    }
   ],
   "source": [
    "supermarket.info()"
   ]
  },
  {
   "cell_type": "code",
   "execution_count": 19,
   "metadata": {},
   "outputs": [
    {
     "name": "stdout",
     "output_type": "stream",
     "text": [
      "Original features:\n",
      " ['Product_Identifier', 'Supermarket_Identifier', 'Product_Supermarket_Identifier', 'Product_Weight', 'Product_Fat_Content', 'Product_Shelf_Visibility', 'Product_Type', 'Product_Price', 'Supermarket_Opening_Year', 'Supermarket _Size', 'Supermarket_Location_Type', 'Supermarket_Type', 'Product_Supermarket_Sales'] \n",
      "\n"
     ]
    }
   ],
   "source": [
    "print(\"Original features:\\n\", list(supermarket.columns), \"\\n\")"
   ]
  },
  {
   "cell_type": "code",
   "execution_count": 20,
   "metadata": {},
   "outputs": [
    {
     "data": {
      "text/html": [
       "<div>\n",
       "<style scoped>\n",
       "    .dataframe tbody tr th:only-of-type {\n",
       "        vertical-align: middle;\n",
       "    }\n",
       "\n",
       "    .dataframe tbody tr th {\n",
       "        vertical-align: top;\n",
       "    }\n",
       "\n",
       "    .dataframe thead th {\n",
       "        text-align: right;\n",
       "    }\n",
       "</style>\n",
       "<table border=\"1\" class=\"dataframe\">\n",
       "  <thead>\n",
       "    <tr style=\"text-align: right;\">\n",
       "      <th></th>\n",
       "      <th>Product_Identifier</th>\n",
       "      <th>Supermarket_Identifier</th>\n",
       "      <th>Product_Supermarket_Identifier</th>\n",
       "      <th>Product_Weight</th>\n",
       "      <th>Product_Fat_Content</th>\n",
       "      <th>Product_Shelf_Visibility</th>\n",
       "      <th>Product_Type</th>\n",
       "      <th>Product_Price</th>\n",
       "      <th>Supermarket_Opening_Year</th>\n",
       "      <th>Supermarket _Size</th>\n",
       "      <th>Supermarket_Location_Type</th>\n",
       "      <th>Supermarket_Type</th>\n",
       "      <th>Product_Supermarket_Sales</th>\n",
       "    </tr>\n",
       "  </thead>\n",
       "  <tbody>\n",
       "    <tr>\n",
       "      <th>0</th>\n",
       "      <td>DRA12</td>\n",
       "      <td>CHUKWUDI010</td>\n",
       "      <td>DRA12_CHUKWUDI010</td>\n",
       "      <td>11.6</td>\n",
       "      <td>Low Fat</td>\n",
       "      <td>0.068535</td>\n",
       "      <td>Soft Drinks</td>\n",
       "      <td>357.54</td>\n",
       "      <td>2005</td>\n",
       "      <td>Medium</td>\n",
       "      <td>Cluster 3</td>\n",
       "      <td>Grocery Store</td>\n",
       "      <td>709.08</td>\n",
       "    </tr>\n",
       "    <tr>\n",
       "      <th>1</th>\n",
       "      <td>DRA12</td>\n",
       "      <td>CHUKWUDI013</td>\n",
       "      <td>DRA12_CHUKWUDI013</td>\n",
       "      <td>11.6</td>\n",
       "      <td>Low Fat</td>\n",
       "      <td>0.040912</td>\n",
       "      <td>Soft Drinks</td>\n",
       "      <td>355.79</td>\n",
       "      <td>1994</td>\n",
       "      <td>High</td>\n",
       "      <td>Cluster 3</td>\n",
       "      <td>Supermarket Type1</td>\n",
       "      <td>6381.69</td>\n",
       "    </tr>\n",
       "    <tr>\n",
       "      <th>2</th>\n",
       "      <td>DRA12</td>\n",
       "      <td>CHUKWUDI017</td>\n",
       "      <td>DRA12_CHUKWUDI017</td>\n",
       "      <td>11.6</td>\n",
       "      <td>Low Fat</td>\n",
       "      <td>0.041178</td>\n",
       "      <td>Soft Drinks</td>\n",
       "      <td>350.79</td>\n",
       "      <td>2014</td>\n",
       "      <td>Medium</td>\n",
       "      <td>Cluster 2</td>\n",
       "      <td>Supermarket Type1</td>\n",
       "      <td>6381.69</td>\n",
       "    </tr>\n",
       "    <tr>\n",
       "      <th>3</th>\n",
       "      <td>DRA12</td>\n",
       "      <td>CHUKWUDI018</td>\n",
       "      <td>DRA12_CHUKWUDI018</td>\n",
       "      <td>11.6</td>\n",
       "      <td>Low Fat</td>\n",
       "      <td>0.041113</td>\n",
       "      <td>Soft Drinks</td>\n",
       "      <td>355.04</td>\n",
       "      <td>2016</td>\n",
       "      <td>Medium</td>\n",
       "      <td>Cluster 3</td>\n",
       "      <td>Supermarket Type2</td>\n",
       "      <td>2127.23</td>\n",
       "    </tr>\n",
       "    <tr>\n",
       "      <th>4</th>\n",
       "      <td>DRA12</td>\n",
       "      <td>CHUKWUDI035</td>\n",
       "      <td>DRA12_CHUKWUDI035</td>\n",
       "      <td>11.6</td>\n",
       "      <td>Ultra Low fat</td>\n",
       "      <td>0.000000</td>\n",
       "      <td>Soft Drinks</td>\n",
       "      <td>354.79</td>\n",
       "      <td>2011</td>\n",
       "      <td>Small</td>\n",
       "      <td>Cluster 2</td>\n",
       "      <td>Supermarket Type1</td>\n",
       "      <td>2481.77</td>\n",
       "    </tr>\n",
       "  </tbody>\n",
       "</table>\n",
       "</div>"
      ],
      "text/plain": [
       "  Product_Identifier Supermarket_Identifier Product_Supermarket_Identifier  \\\n",
       "0              DRA12            CHUKWUDI010              DRA12_CHUKWUDI010   \n",
       "1              DRA12            CHUKWUDI013              DRA12_CHUKWUDI013   \n",
       "2              DRA12            CHUKWUDI017              DRA12_CHUKWUDI017   \n",
       "3              DRA12            CHUKWUDI018              DRA12_CHUKWUDI018   \n",
       "4              DRA12            CHUKWUDI035              DRA12_CHUKWUDI035   \n",
       "\n",
       "   Product_Weight Product_Fat_Content  Product_Shelf_Visibility Product_Type  \\\n",
       "0            11.6             Low Fat                  0.068535  Soft Drinks   \n",
       "1            11.6             Low Fat                  0.040912  Soft Drinks   \n",
       "2            11.6             Low Fat                  0.041178  Soft Drinks   \n",
       "3            11.6             Low Fat                  0.041113  Soft Drinks   \n",
       "4            11.6       Ultra Low fat                  0.000000  Soft Drinks   \n",
       "\n",
       "   Product_Price  Supermarket_Opening_Year Supermarket _Size  \\\n",
       "0         357.54                      2005            Medium   \n",
       "1         355.79                      1994              High   \n",
       "2         350.79                      2014            Medium   \n",
       "3         355.04                      2016            Medium   \n",
       "4         354.79                      2011             Small   \n",
       "\n",
       "  Supermarket_Location_Type   Supermarket_Type  Product_Supermarket_Sales  \n",
       "0                 Cluster 3      Grocery Store                     709.08  \n",
       "1                 Cluster 3  Supermarket Type1                    6381.69  \n",
       "2                 Cluster 2  Supermarket Type1                    6381.69  \n",
       "3                 Cluster 3  Supermarket Type2                    2127.23  \n",
       "4                 Cluster 2  Supermarket Type1                    2481.77  "
      ]
     },
     "execution_count": 20,
     "metadata": {},
     "output_type": "execute_result"
    }
   ],
   "source": [
    "supermarket.head()"
   ]
  },
  {
   "cell_type": "code",
   "execution_count": 21,
   "metadata": {},
   "outputs": [],
   "source": [
    "supermarket_new =pd.get_dummies(supermarket, prefix=['Product_Fat_Content', 'Product_Type','Supermarket_Size', 'Supermarket_Location_Type', 'Supermarket_Type'], columns=['Product_Fat_Content', 'Product_Type','Supermarket _Size', 'Supermarket_Location_Type', 'Supermarket_Type'])"
   ]
  },
  {
   "cell_type": "code",
   "execution_count": 22,
   "metadata": {},
   "outputs": [
    {
     "data": {
      "text/html": [
       "<div>\n",
       "<style scoped>\n",
       "    .dataframe tbody tr th:only-of-type {\n",
       "        vertical-align: middle;\n",
       "    }\n",
       "\n",
       "    .dataframe tbody tr th {\n",
       "        vertical-align: top;\n",
       "    }\n",
       "\n",
       "    .dataframe thead th {\n",
       "        text-align: right;\n",
       "    }\n",
       "</style>\n",
       "<table border=\"1\" class=\"dataframe\">\n",
       "  <thead>\n",
       "    <tr style=\"text-align: right;\">\n",
       "      <th></th>\n",
       "      <th>Product_Identifier</th>\n",
       "      <th>Supermarket_Identifier</th>\n",
       "      <th>Product_Supermarket_Identifier</th>\n",
       "      <th>Product_Weight</th>\n",
       "      <th>Product_Shelf_Visibility</th>\n",
       "      <th>Product_Price</th>\n",
       "      <th>Supermarket_Opening_Year</th>\n",
       "      <th>Product_Supermarket_Sales</th>\n",
       "      <th>Product_Fat_Content_Low Fat</th>\n",
       "      <th>Product_Fat_Content_Normal Fat</th>\n",
       "      <th>...</th>\n",
       "      <th>Supermarket_Size_High</th>\n",
       "      <th>Supermarket_Size_Medium</th>\n",
       "      <th>Supermarket_Size_Small</th>\n",
       "      <th>Supermarket_Location_Type_Cluster 1</th>\n",
       "      <th>Supermarket_Location_Type_Cluster 2</th>\n",
       "      <th>Supermarket_Location_Type_Cluster 3</th>\n",
       "      <th>Supermarket_Type_Grocery Store</th>\n",
       "      <th>Supermarket_Type_Supermarket Type1</th>\n",
       "      <th>Supermarket_Type_Supermarket Type2</th>\n",
       "      <th>Supermarket_Type_Supermarket Type3</th>\n",
       "    </tr>\n",
       "  </thead>\n",
       "  <tbody>\n",
       "    <tr>\n",
       "      <th>0</th>\n",
       "      <td>DRA12</td>\n",
       "      <td>CHUKWUDI010</td>\n",
       "      <td>DRA12_CHUKWUDI010</td>\n",
       "      <td>11.6</td>\n",
       "      <td>0.068535</td>\n",
       "      <td>357.54</td>\n",
       "      <td>2005</td>\n",
       "      <td>709.08</td>\n",
       "      <td>1</td>\n",
       "      <td>0</td>\n",
       "      <td>...</td>\n",
       "      <td>0</td>\n",
       "      <td>1</td>\n",
       "      <td>0</td>\n",
       "      <td>0</td>\n",
       "      <td>0</td>\n",
       "      <td>1</td>\n",
       "      <td>1</td>\n",
       "      <td>0</td>\n",
       "      <td>0</td>\n",
       "      <td>0</td>\n",
       "    </tr>\n",
       "    <tr>\n",
       "      <th>1</th>\n",
       "      <td>DRA12</td>\n",
       "      <td>CHUKWUDI013</td>\n",
       "      <td>DRA12_CHUKWUDI013</td>\n",
       "      <td>11.6</td>\n",
       "      <td>0.040912</td>\n",
       "      <td>355.79</td>\n",
       "      <td>1994</td>\n",
       "      <td>6381.69</td>\n",
       "      <td>1</td>\n",
       "      <td>0</td>\n",
       "      <td>...</td>\n",
       "      <td>1</td>\n",
       "      <td>0</td>\n",
       "      <td>0</td>\n",
       "      <td>0</td>\n",
       "      <td>0</td>\n",
       "      <td>1</td>\n",
       "      <td>0</td>\n",
       "      <td>1</td>\n",
       "      <td>0</td>\n",
       "      <td>0</td>\n",
       "    </tr>\n",
       "    <tr>\n",
       "      <th>2</th>\n",
       "      <td>DRA12</td>\n",
       "      <td>CHUKWUDI017</td>\n",
       "      <td>DRA12_CHUKWUDI017</td>\n",
       "      <td>11.6</td>\n",
       "      <td>0.041178</td>\n",
       "      <td>350.79</td>\n",
       "      <td>2014</td>\n",
       "      <td>6381.69</td>\n",
       "      <td>1</td>\n",
       "      <td>0</td>\n",
       "      <td>...</td>\n",
       "      <td>0</td>\n",
       "      <td>1</td>\n",
       "      <td>0</td>\n",
       "      <td>0</td>\n",
       "      <td>1</td>\n",
       "      <td>0</td>\n",
       "      <td>0</td>\n",
       "      <td>1</td>\n",
       "      <td>0</td>\n",
       "      <td>0</td>\n",
       "    </tr>\n",
       "    <tr>\n",
       "      <th>3</th>\n",
       "      <td>DRA12</td>\n",
       "      <td>CHUKWUDI018</td>\n",
       "      <td>DRA12_CHUKWUDI018</td>\n",
       "      <td>11.6</td>\n",
       "      <td>0.041113</td>\n",
       "      <td>355.04</td>\n",
       "      <td>2016</td>\n",
       "      <td>2127.23</td>\n",
       "      <td>1</td>\n",
       "      <td>0</td>\n",
       "      <td>...</td>\n",
       "      <td>0</td>\n",
       "      <td>1</td>\n",
       "      <td>0</td>\n",
       "      <td>0</td>\n",
       "      <td>0</td>\n",
       "      <td>1</td>\n",
       "      <td>0</td>\n",
       "      <td>0</td>\n",
       "      <td>1</td>\n",
       "      <td>0</td>\n",
       "    </tr>\n",
       "    <tr>\n",
       "      <th>4</th>\n",
       "      <td>DRA12</td>\n",
       "      <td>CHUKWUDI035</td>\n",
       "      <td>DRA12_CHUKWUDI035</td>\n",
       "      <td>11.6</td>\n",
       "      <td>0.000000</td>\n",
       "      <td>354.79</td>\n",
       "      <td>2011</td>\n",
       "      <td>2481.77</td>\n",
       "      <td>0</td>\n",
       "      <td>0</td>\n",
       "      <td>...</td>\n",
       "      <td>0</td>\n",
       "      <td>0</td>\n",
       "      <td>1</td>\n",
       "      <td>0</td>\n",
       "      <td>1</td>\n",
       "      <td>0</td>\n",
       "      <td>0</td>\n",
       "      <td>1</td>\n",
       "      <td>0</td>\n",
       "      <td>0</td>\n",
       "    </tr>\n",
       "  </tbody>\n",
       "</table>\n",
       "<p>5 rows × 37 columns</p>\n",
       "</div>"
      ],
      "text/plain": [
       "  Product_Identifier Supermarket_Identifier Product_Supermarket_Identifier  \\\n",
       "0              DRA12            CHUKWUDI010              DRA12_CHUKWUDI010   \n",
       "1              DRA12            CHUKWUDI013              DRA12_CHUKWUDI013   \n",
       "2              DRA12            CHUKWUDI017              DRA12_CHUKWUDI017   \n",
       "3              DRA12            CHUKWUDI018              DRA12_CHUKWUDI018   \n",
       "4              DRA12            CHUKWUDI035              DRA12_CHUKWUDI035   \n",
       "\n",
       "   Product_Weight  Product_Shelf_Visibility  Product_Price  \\\n",
       "0            11.6                  0.068535         357.54   \n",
       "1            11.6                  0.040912         355.79   \n",
       "2            11.6                  0.041178         350.79   \n",
       "3            11.6                  0.041113         355.04   \n",
       "4            11.6                  0.000000         354.79   \n",
       "\n",
       "   Supermarket_Opening_Year  Product_Supermarket_Sales  \\\n",
       "0                      2005                     709.08   \n",
       "1                      1994                    6381.69   \n",
       "2                      2014                    6381.69   \n",
       "3                      2016                    2127.23   \n",
       "4                      2011                    2481.77   \n",
       "\n",
       "   Product_Fat_Content_Low Fat  Product_Fat_Content_Normal Fat  \\\n",
       "0                            1                               0   \n",
       "1                            1                               0   \n",
       "2                            1                               0   \n",
       "3                            1                               0   \n",
       "4                            0                               0   \n",
       "\n",
       "                  ...                  Supermarket_Size_High  \\\n",
       "0                 ...                                      0   \n",
       "1                 ...                                      1   \n",
       "2                 ...                                      0   \n",
       "3                 ...                                      0   \n",
       "4                 ...                                      0   \n",
       "\n",
       "   Supermarket_Size_Medium  Supermarket_Size_Small  \\\n",
       "0                        1                       0   \n",
       "1                        0                       0   \n",
       "2                        1                       0   \n",
       "3                        1                       0   \n",
       "4                        0                       1   \n",
       "\n",
       "   Supermarket_Location_Type_Cluster 1  Supermarket_Location_Type_Cluster 2  \\\n",
       "0                                    0                                    0   \n",
       "1                                    0                                    0   \n",
       "2                                    0                                    1   \n",
       "3                                    0                                    0   \n",
       "4                                    0                                    1   \n",
       "\n",
       "   Supermarket_Location_Type_Cluster 3  Supermarket_Type_Grocery Store  \\\n",
       "0                                    1                               1   \n",
       "1                                    1                               0   \n",
       "2                                    0                               0   \n",
       "3                                    1                               0   \n",
       "4                                    0                               0   \n",
       "\n",
       "   Supermarket_Type_Supermarket Type1  Supermarket_Type_Supermarket Type2  \\\n",
       "0                                   0                                   0   \n",
       "1                                   1                                   0   \n",
       "2                                   1                                   0   \n",
       "3                                   0                                   1   \n",
       "4                                   1                                   0   \n",
       "\n",
       "   Supermarket_Type_Supermarket Type3  \n",
       "0                                   0  \n",
       "1                                   0  \n",
       "2                                   0  \n",
       "3                                   0  \n",
       "4                                   0  \n",
       "\n",
       "[5 rows x 37 columns]"
      ]
     },
     "execution_count": 22,
     "metadata": {},
     "output_type": "execute_result"
    }
   ],
   "source": [
    "supermarket_new.head()"
   ]
  },
  {
   "cell_type": "code",
   "execution_count": 23,
   "metadata": {},
   "outputs": [],
   "source": [
    "del supermarket_new['Product_Identifier']"
   ]
  },
  {
   "cell_type": "code",
   "execution_count": 24,
   "metadata": {},
   "outputs": [],
   "source": [
    "supermarket_new = supermarket_new.drop(['Product_Supermarket_Identifier'], axis = 1)"
   ]
  },
  {
   "cell_type": "code",
   "execution_count": 25,
   "metadata": {},
   "outputs": [],
   "source": [
    "supermarket_new = supermarket_new.drop(['Supermarket_Identifier'], axis = 1)"
   ]
  },
  {
   "cell_type": "code",
   "execution_count": 26,
   "metadata": {},
   "outputs": [
    {
     "data": {
      "text/html": [
       "<div>\n",
       "<style scoped>\n",
       "    .dataframe tbody tr th:only-of-type {\n",
       "        vertical-align: middle;\n",
       "    }\n",
       "\n",
       "    .dataframe tbody tr th {\n",
       "        vertical-align: top;\n",
       "    }\n",
       "\n",
       "    .dataframe thead th {\n",
       "        text-align: right;\n",
       "    }\n",
       "</style>\n",
       "<table border=\"1\" class=\"dataframe\">\n",
       "  <thead>\n",
       "    <tr style=\"text-align: right;\">\n",
       "      <th></th>\n",
       "      <th>Product_Weight</th>\n",
       "      <th>Product_Shelf_Visibility</th>\n",
       "      <th>Product_Price</th>\n",
       "      <th>Supermarket_Opening_Year</th>\n",
       "      <th>Product_Supermarket_Sales</th>\n",
       "      <th>Product_Fat_Content_Low Fat</th>\n",
       "      <th>Product_Fat_Content_Normal Fat</th>\n",
       "      <th>Product_Fat_Content_Ultra Low fat</th>\n",
       "      <th>Product_Type_Baking Goods</th>\n",
       "      <th>Product_Type_Breads</th>\n",
       "      <th>...</th>\n",
       "      <th>Supermarket_Size_High</th>\n",
       "      <th>Supermarket_Size_Medium</th>\n",
       "      <th>Supermarket_Size_Small</th>\n",
       "      <th>Supermarket_Location_Type_Cluster 1</th>\n",
       "      <th>Supermarket_Location_Type_Cluster 2</th>\n",
       "      <th>Supermarket_Location_Type_Cluster 3</th>\n",
       "      <th>Supermarket_Type_Grocery Store</th>\n",
       "      <th>Supermarket_Type_Supermarket Type1</th>\n",
       "      <th>Supermarket_Type_Supermarket Type2</th>\n",
       "      <th>Supermarket_Type_Supermarket Type3</th>\n",
       "    </tr>\n",
       "  </thead>\n",
       "  <tbody>\n",
       "    <tr>\n",
       "      <th>0</th>\n",
       "      <td>11.6</td>\n",
       "      <td>0.068535</td>\n",
       "      <td>357.54</td>\n",
       "      <td>2005</td>\n",
       "      <td>709.08</td>\n",
       "      <td>1</td>\n",
       "      <td>0</td>\n",
       "      <td>0</td>\n",
       "      <td>0</td>\n",
       "      <td>0</td>\n",
       "      <td>...</td>\n",
       "      <td>0</td>\n",
       "      <td>1</td>\n",
       "      <td>0</td>\n",
       "      <td>0</td>\n",
       "      <td>0</td>\n",
       "      <td>1</td>\n",
       "      <td>1</td>\n",
       "      <td>0</td>\n",
       "      <td>0</td>\n",
       "      <td>0</td>\n",
       "    </tr>\n",
       "    <tr>\n",
       "      <th>1</th>\n",
       "      <td>11.6</td>\n",
       "      <td>0.040912</td>\n",
       "      <td>355.79</td>\n",
       "      <td>1994</td>\n",
       "      <td>6381.69</td>\n",
       "      <td>1</td>\n",
       "      <td>0</td>\n",
       "      <td>0</td>\n",
       "      <td>0</td>\n",
       "      <td>0</td>\n",
       "      <td>...</td>\n",
       "      <td>1</td>\n",
       "      <td>0</td>\n",
       "      <td>0</td>\n",
       "      <td>0</td>\n",
       "      <td>0</td>\n",
       "      <td>1</td>\n",
       "      <td>0</td>\n",
       "      <td>1</td>\n",
       "      <td>0</td>\n",
       "      <td>0</td>\n",
       "    </tr>\n",
       "    <tr>\n",
       "      <th>2</th>\n",
       "      <td>11.6</td>\n",
       "      <td>0.041178</td>\n",
       "      <td>350.79</td>\n",
       "      <td>2014</td>\n",
       "      <td>6381.69</td>\n",
       "      <td>1</td>\n",
       "      <td>0</td>\n",
       "      <td>0</td>\n",
       "      <td>0</td>\n",
       "      <td>0</td>\n",
       "      <td>...</td>\n",
       "      <td>0</td>\n",
       "      <td>1</td>\n",
       "      <td>0</td>\n",
       "      <td>0</td>\n",
       "      <td>1</td>\n",
       "      <td>0</td>\n",
       "      <td>0</td>\n",
       "      <td>1</td>\n",
       "      <td>0</td>\n",
       "      <td>0</td>\n",
       "    </tr>\n",
       "    <tr>\n",
       "      <th>3</th>\n",
       "      <td>11.6</td>\n",
       "      <td>0.041113</td>\n",
       "      <td>355.04</td>\n",
       "      <td>2016</td>\n",
       "      <td>2127.23</td>\n",
       "      <td>1</td>\n",
       "      <td>0</td>\n",
       "      <td>0</td>\n",
       "      <td>0</td>\n",
       "      <td>0</td>\n",
       "      <td>...</td>\n",
       "      <td>0</td>\n",
       "      <td>1</td>\n",
       "      <td>0</td>\n",
       "      <td>0</td>\n",
       "      <td>0</td>\n",
       "      <td>1</td>\n",
       "      <td>0</td>\n",
       "      <td>0</td>\n",
       "      <td>1</td>\n",
       "      <td>0</td>\n",
       "    </tr>\n",
       "    <tr>\n",
       "      <th>4</th>\n",
       "      <td>11.6</td>\n",
       "      <td>0.000000</td>\n",
       "      <td>354.79</td>\n",
       "      <td>2011</td>\n",
       "      <td>2481.77</td>\n",
       "      <td>0</td>\n",
       "      <td>0</td>\n",
       "      <td>1</td>\n",
       "      <td>0</td>\n",
       "      <td>0</td>\n",
       "      <td>...</td>\n",
       "      <td>0</td>\n",
       "      <td>0</td>\n",
       "      <td>1</td>\n",
       "      <td>0</td>\n",
       "      <td>1</td>\n",
       "      <td>0</td>\n",
       "      <td>0</td>\n",
       "      <td>1</td>\n",
       "      <td>0</td>\n",
       "      <td>0</td>\n",
       "    </tr>\n",
       "  </tbody>\n",
       "</table>\n",
       "<p>5 rows × 34 columns</p>\n",
       "</div>"
      ],
      "text/plain": [
       "   Product_Weight  Product_Shelf_Visibility  Product_Price  \\\n",
       "0            11.6                  0.068535         357.54   \n",
       "1            11.6                  0.040912         355.79   \n",
       "2            11.6                  0.041178         350.79   \n",
       "3            11.6                  0.041113         355.04   \n",
       "4            11.6                  0.000000         354.79   \n",
       "\n",
       "   Supermarket_Opening_Year  Product_Supermarket_Sales  \\\n",
       "0                      2005                     709.08   \n",
       "1                      1994                    6381.69   \n",
       "2                      2014                    6381.69   \n",
       "3                      2016                    2127.23   \n",
       "4                      2011                    2481.77   \n",
       "\n",
       "   Product_Fat_Content_Low Fat  Product_Fat_Content_Normal Fat  \\\n",
       "0                            1                               0   \n",
       "1                            1                               0   \n",
       "2                            1                               0   \n",
       "3                            1                               0   \n",
       "4                            0                               0   \n",
       "\n",
       "   Product_Fat_Content_Ultra Low fat  Product_Type_Baking Goods  \\\n",
       "0                                  0                          0   \n",
       "1                                  0                          0   \n",
       "2                                  0                          0   \n",
       "3                                  0                          0   \n",
       "4                                  1                          0   \n",
       "\n",
       "   Product_Type_Breads                 ...                  \\\n",
       "0                    0                 ...                   \n",
       "1                    0                 ...                   \n",
       "2                    0                 ...                   \n",
       "3                    0                 ...                   \n",
       "4                    0                 ...                   \n",
       "\n",
       "   Supermarket_Size_High  Supermarket_Size_Medium  Supermarket_Size_Small  \\\n",
       "0                      0                        1                       0   \n",
       "1                      1                        0                       0   \n",
       "2                      0                        1                       0   \n",
       "3                      0                        1                       0   \n",
       "4                      0                        0                       1   \n",
       "\n",
       "   Supermarket_Location_Type_Cluster 1  Supermarket_Location_Type_Cluster 2  \\\n",
       "0                                    0                                    0   \n",
       "1                                    0                                    0   \n",
       "2                                    0                                    1   \n",
       "3                                    0                                    0   \n",
       "4                                    0                                    1   \n",
       "\n",
       "   Supermarket_Location_Type_Cluster 3  Supermarket_Type_Grocery Store  \\\n",
       "0                                    1                               1   \n",
       "1                                    1                               0   \n",
       "2                                    0                               0   \n",
       "3                                    1                               0   \n",
       "4                                    0                               0   \n",
       "\n",
       "   Supermarket_Type_Supermarket Type1  Supermarket_Type_Supermarket Type2  \\\n",
       "0                                   0                                   0   \n",
       "1                                   1                                   0   \n",
       "2                                   1                                   0   \n",
       "3                                   0                                   1   \n",
       "4                                   1                                   0   \n",
       "\n",
       "   Supermarket_Type_Supermarket Type3  \n",
       "0                                   0  \n",
       "1                                   0  \n",
       "2                                   0  \n",
       "3                                   0  \n",
       "4                                   0  \n",
       "\n",
       "[5 rows x 34 columns]"
      ]
     },
     "execution_count": 26,
     "metadata": {},
     "output_type": "execute_result"
    }
   ],
   "source": [
    "supermarket_new.head()"
   ]
  },
  {
   "cell_type": "code",
   "execution_count": 27,
   "metadata": {},
   "outputs": [
    {
     "data": {
      "text/plain": [
       "(4990, 34)"
      ]
     },
     "execution_count": 27,
     "metadata": {},
     "output_type": "execute_result"
    }
   ],
   "source": [
    "supermarket_new.shape"
   ]
  },
  {
   "cell_type": "markdown",
   "metadata": {},
   "source": [
    "## Training- Splitting Data "
   ]
  },
  {
   "cell_type": "code",
   "execution_count": 28,
   "metadata": {},
   "outputs": [],
   "source": [
    "from sklearn.model_selection import train_test_split\n",
    "feature_col_names=['Product_Weight', 'Product_Shelf_Visibility', 'Product_Price', 'Supermarket_Opening_Year', 'Product_Fat_Content_Low Fat', 'Product_Fat_Content_Normal Fat', 'Product_Fat_Content_Ultra Low fat', 'Product_Type_Baking Goods', 'Product_Type_Breads', 'Product_Type_Breakfast', 'Product_Type_Canned', 'Product_Type_Dairy', 'Product_Type_Frozen Foods', 'Product_Type_Fruits and Vegetables', 'Product_Type_Hard Drinks', 'Product_Type_Health and Hygiene', 'Product_Type_Household', 'Product_Type_Meat', 'Product_Type_Others', 'Product_Type_Seafood', 'Product_Type_Snack Foods', 'Product_Type_Soft Drinks', 'Product_Type_Starchy Foods', 'Supermarket_Size_High', 'Supermarket_Size_Medium', 'Supermarket_Size_Small', 'Supermarket_Location_Type_Cluster 1', 'Supermarket_Location_Type_Cluster 2', 'Supermarket_Location_Type_Cluster 3', 'Supermarket_Type_Grocery Store', 'Supermarket_Type_Supermarket Type1', 'Supermarket_Type_Supermarket Type2', 'Supermarket_Type_Supermarket Type3']\n",
    "predicted_class_names=['Product_Supermarket_Sales']\n",
    "X=supermarket_new[feature_col_names].values\n",
    "y=supermarket_new[predicted_class_names].values \n",
    "split_test_size=0.30\n",
    "X_train, X_test, y_train, y_test= train_test_split(X,y, test_size=split_test_size, random_state=42)\n",
    "   "
   ]
  },
  {
   "cell_type": "code",
   "execution_count": 29,
   "metadata": {
    "scrolled": true
   },
   "outputs": [
    {
     "name": "stdout",
     "output_type": "stream",
     "text": [
      "70.00% in training set\n",
      "30.00% in test set\n"
     ]
    }
   ],
   "source": [
    "print(\"{0:0.2f}% in training set\".format((len(X_train)/len(supermarket_new.index)) * 100))\n",
    "print(\"{0:0.2f}% in test set\".format((len(X_test)/len(supermarket_new.index)) * 100))"
   ]
  },
  {
   "cell_type": "markdown",
   "metadata": {},
   "source": [
    "## Train Data "
   ]
  },
  {
   "cell_type": "markdown",
   "metadata": {},
   "source": [
    "### Gradient Boosting "
   ]
  },
  {
   "cell_type": "code",
   "execution_count": 30,
   "metadata": {},
   "outputs": [
    {
     "data": {
      "text/plain": [
       "GradientBoostingRegressor(alpha=0.9, criterion='friedman_mse', init=None,\n",
       "             learning_rate=0.089, loss='lad', max_depth=3.6,\n",
       "             max_features=None, max_leaf_nodes=None,\n",
       "             min_impurity_decrease=0.0, min_impurity_split=None,\n",
       "             min_samples_leaf=50, min_samples_split=500,\n",
       "             min_weight_fraction_leaf=0.0, n_estimators=100,\n",
       "             n_iter_no_change=None, presort='auto', random_state=None,\n",
       "             subsample=1.0, tol=0.0001, validation_fraction=0.1, verbose=0,\n",
       "             warm_start=False)"
      ]
     },
     "execution_count": 30,
     "metadata": {},
     "output_type": "execute_result"
    }
   ],
   "source": [
    "from sklearn.ensemble import GradientBoostingRegressor\n",
    "gbr=GradientBoostingRegressor(learning_rate=0.089, max_depth=3.6, loss='lad',min_samples_split=500,min_samples_leaf=50, n_estimators=100)\n",
    "gbr.fit(X_train, y_train.ravel())"
   ]
  },
  {
   "cell_type": "code",
   "execution_count": 31,
   "metadata": {},
   "outputs": [],
   "source": [
    "gbrpred=gbr.predict(X_train)\n",
    "gbrpred_test=gbr.predict(X_test)"
   ]
  },
  {
   "cell_type": "code",
   "execution_count": 32,
   "metadata": {},
   "outputs": [],
   "source": [
    "from sklearn.metrics import mean_squared_error\n",
    "from sklearn.metrics import r2_score\n",
    "from math import sqrt"
   ]
  },
  {
   "cell_type": "code",
   "execution_count": 33,
   "metadata": {},
   "outputs": [
    {
     "name": "stdout",
     "output_type": "stream",
     "text": [
      "Accuracy on training set: 0.5816901\n",
      "Accuracy on test set: 0.5571828\n"
     ]
    }
   ],
   "source": [
    "print(\"Accuracy on training set: {:.7f}\".format(gbr.score(X_train, y_train)))\n",
    "print(\"Accuracy on test set: {:.7f}\".format(gbr.score(X_test, y_test)))"
   ]
  },
  {
   "cell_type": "code",
   "execution_count": 34,
   "metadata": {},
   "outputs": [
    {
     "name": "stdout",
     "output_type": "stream",
     "text": [
      "MSE: 8277272.872750353\n",
      "MSE Test: 8739093.041107776\n",
      "RMSE: 2877.025003845179\n",
      "RMSE Test: 2956.1957041284963\n"
     ]
    }
   ],
   "source": [
    "MSE= mean_squared_error(y_train, gbrpred)\n",
    "MSE_test= mean_squared_error(y_test, gbrpred_test)\n",
    "print(\"MSE:\", MSE)\n",
    "print(\"MSE Test:\", MSE_test)\n",
    "RMSE=sqrt(MSE)\n",
    "RMSE_test=sqrt(MSE_test)\n",
    "print(\"RMSE:\", RMSE)\n",
    "print(\"RMSE Test:\", RMSE_test)\n"
   ]
  },
  {
   "cell_type": "markdown",
   "metadata": {},
   "source": [
    "## Linear Regression"
   ]
  },
  {
   "cell_type": "code",
   "execution_count": 35,
   "metadata": {},
   "outputs": [],
   "source": [
    "\n",
    "from sklearn.linear_model import LinearRegression"
   ]
  },
  {
   "cell_type": "code",
   "execution_count": 36,
   "metadata": {},
   "outputs": [
    {
     "data": {
      "text/plain": [
       "LinearRegression(copy_X=True, fit_intercept=True, n_jobs=None,\n",
       "         normalize=False)"
      ]
     },
     "execution_count": 36,
     "metadata": {},
     "output_type": "execute_result"
    }
   ],
   "source": [
    "lr=LinearRegression()\n",
    "lr.fit(X_train, y_train.ravel())"
   ]
  },
  {
   "cell_type": "code",
   "execution_count": 37,
   "metadata": {},
   "outputs": [
    {
     "name": "stdout",
     "output_type": "stream",
     "text": [
      "Accuracy on training set: 0.5628286\n",
      "Accuracy on test set: 0.5434924\n"
     ]
    }
   ],
   "source": [
    "print(\"Accuracy on training set: {:.7f}\".format(lr.score(X_train, y_train)))\n",
    "print(\"Accuracy on test set: {:.7f}\".format(lr.score(X_test, y_test)))"
   ]
  },
  {
   "cell_type": "code",
   "execution_count": 38,
   "metadata": {},
   "outputs": [
    {
     "data": {
      "image/png": "[encoded data removed]",
      "text/plain": [
       "<matplotlib.figure.Figure at 0x234c8b8f6d8>"
      ]
     },
     "metadata": {},
     "output_type": "display_data"
    }
   ],
   "source": [
    "linearRegression=lr.predict(X)\n",
    "sns.regplot(x=y, y=linearRegression, color='y')\n",
    "plt.title('Linear Regression Predicted Values Vs Actual Values')\n",
    "plt.xlabel('Actual')\n",
    "plt.ylabel('Linear Regression')\n",
    "plt.show()"
   ]
  },
  {
   "cell_type": "code",
   "execution_count": 39,
   "metadata": {},
   "outputs": [],
   "source": [
    "ynew= lr.predict(X_test)\n",
    "np.savetxt(\"AII2.csv\",ynew,delimiter=\",\")"
   ]
  },
  {
   "cell_type": "code",
   "execution_count": null,
   "metadata": {},
   "outputs": [],
   "source": []
  },
  {
   "cell_type": "code",
   "execution_count": null,
   "metadata": {},
   "outputs": [],
   "source": []
  },
  {
   "cell_type": "code",
   "execution_count": null,
   "metadata": {},
   "outputs": [],
   "source": []
  },
  {
   "cell_type": "code",
   "execution_count": null,
   "metadata": {},
   "outputs": [],
   "source": []
  }
 ],
 "metadata": {
  "kernelspec": {
   "display_name": "Python 3",
   "language": "python",
   "name": "python3"
  },
  "language_info": {
   "codemirror_mode": {
    "name": "ipython",
    "version": 3
   },
   "file_extension": ".py",
   "mimetype": "text/x-python",
   "name": "python",
   "nbconvert_exporter": "python",
   "pygments_lexer": "ipython3",
   "version": "3.6.4"
  }
 },
 "nbformat": 4,
 "nbformat_minor": 2
}
